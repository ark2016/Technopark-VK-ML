{
 "cells": [
  {
   "cell_type": "code",
   "execution_count": 1,
   "metadata": {},
   "outputs": [],
   "source": [
    "import pandas as pd\n",
    "from sklearn.model_selection import train_test_split\n",
    "from sklearn.feature_extraction.text import TfidfVectorizer\n",
    "from sklearn.linear_model import LogisticRegression\n",
    "from sklearn.metrics import classification_report"
   ]
  },
  {
   "cell_type": "code",
   "execution_count": 2,
   "metadata": {},
   "outputs": [],
   "source": [
    "data = pd.read_csv(\"train.csv\")\n",
    "X_test_competition = pd.read_csv(\"test.csv\")"
   ]
  },
  {
   "cell_type": "code",
   "execution_count": 3,
   "metadata": {},
   "outputs": [
    {
     "data": {
      "text/html": [
       "<div>\n",
       "<style scoped>\n",
       "    .dataframe tbody tr th:only-of-type {\n",
       "        vertical-align: middle;\n",
       "    }\n",
       "\n",
       "    .dataframe tbody tr th {\n",
       "        vertical-align: top;\n",
       "    }\n",
       "\n",
       "    .dataframe thead th {\n",
       "        text-align: right;\n",
       "    }\n",
       "</style>\n",
       "<table border=\"1\" class=\"dataframe\">\n",
       "  <thead>\n",
       "    <tr style=\"text-align: right;\">\n",
       "      <th></th>\n",
       "      <th>ID</th>\n",
       "      <th>url</th>\n",
       "      <th>title</th>\n",
       "      <th>label</th>\n",
       "    </tr>\n",
       "  </thead>\n",
       "  <tbody>\n",
       "    <tr>\n",
       "      <th>0</th>\n",
       "      <td>0</td>\n",
       "      <td>m.kp.md</td>\n",
       "      <td>Экс-министр экономики Молдовы - главе МИДЭИ, ц...</td>\n",
       "      <td>0</td>\n",
       "    </tr>\n",
       "    <tr>\n",
       "      <th>1</th>\n",
       "      <td>1</td>\n",
       "      <td>www.kp.by</td>\n",
       "      <td>Эта песня стала известна многим телезрителям б...</td>\n",
       "      <td>0</td>\n",
       "    </tr>\n",
       "    <tr>\n",
       "      <th>2</th>\n",
       "      <td>2</td>\n",
       "      <td>fanserials.tv</td>\n",
       "      <td>Банши 4 сезон 2 серия Бремя красоты смотреть о...</td>\n",
       "      <td>0</td>\n",
       "    </tr>\n",
       "    <tr>\n",
       "      <th>3</th>\n",
       "      <td>3</td>\n",
       "      <td>colorbox.spb.ru</td>\n",
       "      <td>Не Беси Меня Картинки</td>\n",
       "      <td>0</td>\n",
       "    </tr>\n",
       "    <tr>\n",
       "      <th>4</th>\n",
       "      <td>4</td>\n",
       "      <td>tula-sport.ru</td>\n",
       "      <td>В Новомосковске сыграют следж-хоккеисты алекси...</td>\n",
       "      <td>0</td>\n",
       "    </tr>\n",
       "    <tr>\n",
       "      <th>...</th>\n",
       "      <td>...</td>\n",
       "      <td>...</td>\n",
       "      <td>...</td>\n",
       "      <td>...</td>\n",
       "    </tr>\n",
       "    <tr>\n",
       "      <th>135304</th>\n",
       "      <td>135304</td>\n",
       "      <td>mail.ru</td>\n",
       "      <td>пора тюльпанов турецкий сериал на русском язык...</td>\n",
       "      <td>0</td>\n",
       "    </tr>\n",
       "    <tr>\n",
       "      <th>135305</th>\n",
       "      <td>135305</td>\n",
       "      <td>www.ntv.ru</td>\n",
       "      <td>Остросюжетный сериал «Шеф. Игра на повышение»....</td>\n",
       "      <td>0</td>\n",
       "    </tr>\n",
       "    <tr>\n",
       "      <th>135306</th>\n",
       "      <td>135306</td>\n",
       "      <td>topclassiccarsforsale.com</td>\n",
       "      <td>1941 Plymouth Special Deluxe Hot Rod, Automati...</td>\n",
       "      <td>0</td>\n",
       "    </tr>\n",
       "    <tr>\n",
       "      <th>135307</th>\n",
       "      <td>135307</td>\n",
       "      <td>wowcream.ru</td>\n",
       "      <td>Купить It's Skin Сыворотка питательная Power 1...</td>\n",
       "      <td>0</td>\n",
       "    </tr>\n",
       "    <tr>\n",
       "      <th>135308</th>\n",
       "      <td>135308</td>\n",
       "      <td>www.ubu.ru</td>\n",
       "      <td>Технический спирт в канистрах и флаконах, купи...</td>\n",
       "      <td>0</td>\n",
       "    </tr>\n",
       "  </tbody>\n",
       "</table>\n",
       "<p>135309 rows × 4 columns</p>\n",
       "</div>"
      ],
      "text/plain": [
       "            ID                        url  \\\n",
       "0            0                    m.kp.md   \n",
       "1            1                  www.kp.by   \n",
       "2            2              fanserials.tv   \n",
       "3            3            colorbox.spb.ru   \n",
       "4            4              tula-sport.ru   \n",
       "...        ...                        ...   \n",
       "135304  135304                    mail.ru   \n",
       "135305  135305                 www.ntv.ru   \n",
       "135306  135306  topclassiccarsforsale.com   \n",
       "135307  135307                wowcream.ru   \n",
       "135308  135308                 www.ubu.ru   \n",
       "\n",
       "                                                    title  label  \n",
       "0       Экс-министр экономики Молдовы - главе МИДЭИ, ц...      0  \n",
       "1       Эта песня стала известна многим телезрителям б...      0  \n",
       "2       Банши 4 сезон 2 серия Бремя красоты смотреть о...      0  \n",
       "3                                   Не Беси Меня Картинки      0  \n",
       "4       В Новомосковске сыграют следж-хоккеисты алекси...      0  \n",
       "...                                                   ...    ...  \n",
       "135304  пора тюльпанов турецкий сериал на русском язык...      0  \n",
       "135305  Остросюжетный сериал «Шеф. Игра на повышение»....      0  \n",
       "135306  1941 Plymouth Special Deluxe Hot Rod, Automati...      0  \n",
       "135307  Купить It's Skin Сыворотка питательная Power 1...      0  \n",
       "135308  Технический спирт в канистрах и флаконах, купи...      0  \n",
       "\n",
       "[135309 rows x 4 columns]"
      ]
     },
     "execution_count": 3,
     "metadata": {},
     "output_type": "execute_result"
    }
   ],
   "source": [
    "data"
   ]
  },
  {
   "cell_type": "code",
   "execution_count": 4,
   "metadata": {},
   "outputs": [
    {
     "data": {
      "text/html": [
       "<div>\n",
       "<style scoped>\n",
       "    .dataframe tbody tr th:only-of-type {\n",
       "        vertical-align: middle;\n",
       "    }\n",
       "\n",
       "    .dataframe tbody tr th {\n",
       "        vertical-align: top;\n",
       "    }\n",
       "\n",
       "    .dataframe thead th {\n",
       "        text-align: right;\n",
       "    }\n",
       "</style>\n",
       "<table border=\"1\" class=\"dataframe\">\n",
       "  <thead>\n",
       "    <tr style=\"text-align: right;\">\n",
       "      <th></th>\n",
       "      <th>ID</th>\n",
       "      <th>url</th>\n",
       "      <th>title</th>\n",
       "    </tr>\n",
       "  </thead>\n",
       "  <tbody>\n",
       "    <tr>\n",
       "      <th>0</th>\n",
       "      <td>135309</td>\n",
       "      <td>www.kommersant.ru</td>\n",
       "      <td>Шестой кассационный суд в Самаре начнет работу...</td>\n",
       "    </tr>\n",
       "    <tr>\n",
       "      <th>1</th>\n",
       "      <td>135310</td>\n",
       "      <td>urexpert.online</td>\n",
       "      <td>Что такое индексация алиментов, кем и в каких ...</td>\n",
       "    </tr>\n",
       "    <tr>\n",
       "      <th>2</th>\n",
       "      <td>135311</td>\n",
       "      <td>imperimeha.ru</td>\n",
       "      <td>Женщинам | Империя Меха - Part 12</td>\n",
       "    </tr>\n",
       "    <tr>\n",
       "      <th>3</th>\n",
       "      <td>135312</td>\n",
       "      <td>national-porn.com</td>\n",
       "      <td>Небритые, волосатые киски: Порно всех стран и ...</td>\n",
       "    </tr>\n",
       "    <tr>\n",
       "      <th>4</th>\n",
       "      <td>135313</td>\n",
       "      <td>2gis.ru</td>\n",
       "      <td>67</td>\n",
       "    </tr>\n",
       "    <tr>\n",
       "      <th>...</th>\n",
       "      <td>...</td>\n",
       "      <td>...</td>\n",
       "      <td>...</td>\n",
       "    </tr>\n",
       "    <tr>\n",
       "      <th>165373</th>\n",
       "      <td>300682</td>\n",
       "      <td>etp.armtek.ru</td>\n",
       "      <td>Armtek - запчасти для грузовых и легковых авто...</td>\n",
       "    </tr>\n",
       "    <tr>\n",
       "      <th>165374</th>\n",
       "      <td>300683</td>\n",
       "      <td>mail.ru</td>\n",
       "      <td>Лилия Якупова - Караганда, Карагандинская обла...</td>\n",
       "    </tr>\n",
       "    <tr>\n",
       "      <th>165375</th>\n",
       "      <td>300684</td>\n",
       "      <td>xn----8sbnqchpeeeth.xn--p1ai</td>\n",
       "      <td>Администрация Лесного района Тверской области ...</td>\n",
       "    </tr>\n",
       "    <tr>\n",
       "      <th>165376</th>\n",
       "      <td>300685</td>\n",
       "      <td>www-sunhome-ru.cdn.ampproject.org</td>\n",
       "      <td>Сонник Изменение сознания. К чему снится Измен...</td>\n",
       "    </tr>\n",
       "    <tr>\n",
       "      <th>165377</th>\n",
       "      <td>300686</td>\n",
       "      <td>virtual-hockey.org</td>\n",
       "      <td>Строительство базы команды Гранд-Рапидс Гриффи...</td>\n",
       "    </tr>\n",
       "  </tbody>\n",
       "</table>\n",
       "<p>165378 rows × 3 columns</p>\n",
       "</div>"
      ],
      "text/plain": [
       "            ID                                url  \\\n",
       "0       135309                  www.kommersant.ru   \n",
       "1       135310                    urexpert.online   \n",
       "2       135311                      imperimeha.ru   \n",
       "3       135312                  national-porn.com   \n",
       "4       135313                            2gis.ru   \n",
       "...        ...                                ...   \n",
       "165373  300682                      etp.armtek.ru   \n",
       "165374  300683                            mail.ru   \n",
       "165375  300684       xn----8sbnqchpeeeth.xn--p1ai   \n",
       "165376  300685  www-sunhome-ru.cdn.ampproject.org   \n",
       "165377  300686                 virtual-hockey.org   \n",
       "\n",
       "                                                    title  \n",
       "0       Шестой кассационный суд в Самаре начнет работу...  \n",
       "1       Что такое индексация алиментов, кем и в каких ...  \n",
       "2                       Женщинам | Империя Меха - Part 12  \n",
       "3       Небритые, волосатые киски: Порно всех стран и ...  \n",
       "4                                                      67  \n",
       "...                                                   ...  \n",
       "165373  Armtek - запчасти для грузовых и легковых авто...  \n",
       "165374  Лилия Якупова - Караганда, Карагандинская обла...  \n",
       "165375  Администрация Лесного района Тверской области ...  \n",
       "165376  Сонник Изменение сознания. К чему снится Измен...  \n",
       "165377  Строительство базы команды Гранд-Рапидс Гриффи...  \n",
       "\n",
       "[165378 rows x 3 columns]"
      ]
     },
     "execution_count": 4,
     "metadata": {},
     "output_type": "execute_result"
    }
   ],
   "source": [
    "X_test_competition"
   ]
  },
  {
   "cell_type": "code",
   "execution_count": 5,
   "metadata": {},
   "outputs": [],
   "source": [
    "X_train, X_test, y_train, y_test = train_test_split(data[['url', 'title']], data['label'], test_size=0.2, random_state=42)"
   ]
  },
  {
   "cell_type": "code",
   "execution_count": 6,
   "metadata": {},
   "outputs": [],
   "source": [
    "tfidf_vectorizer = TfidfVectorizer()\n",
    "X_train_tfidf = tfidf_vectorizer.fit_transform(X_train['title'])\n",
    "X_test_tfidf = tfidf_vectorizer.transform(X_test['title'])\n",
    "X_test_competition_tfidf = tfidf_vectorizer.transform(X_test_competition['title'])"
   ]
  },
  {
   "cell_type": "code",
   "execution_count": 7,
   "metadata": {},
   "outputs": [
    {
     "data": {
      "text/plain": [
       "LogisticRegression()"
      ]
     },
     "execution_count": 7,
     "metadata": {},
     "output_type": "execute_result"
    }
   ],
   "source": [
    "classifier = LogisticRegression()\n",
    "classifier.fit(X_train_tfidf, y_train)"
   ]
  },
  {
   "cell_type": "code",
   "execution_count": 8,
   "metadata": {},
   "outputs": [],
   "source": [
    "y_pred = classifier.predict(X_test_tfidf)\n",
    "y_predict = classifier.predict(X_test_competition_tfidf)"
   ]
  },
  {
   "cell_type": "code",
   "execution_count": 9,
   "metadata": {},
   "outputs": [
    {
     "name": "stdout",
     "output_type": "stream",
     "text": [
      "              precision    recall  f1-score   support\n",
      "\n",
      "           0       0.98      1.00      0.99     23722\n",
      "           1       0.99      0.85      0.91      3340\n",
      "\n",
      "    accuracy                           0.98     27062\n",
      "   macro avg       0.98      0.92      0.95     27062\n",
      "weighted avg       0.98      0.98      0.98     27062\n",
      "\n"
     ]
    }
   ],
   "source": [
    "print(classification_report(y_test, y_pred))"
   ]
  },
  {
   "cell_type": "code",
   "execution_count": 11,
   "metadata": {},
   "outputs": [],
   "source": [
    "X_test = pd.read_csv(\"test.csv\")"
   ]
  },
  {
   "cell_type": "code",
   "execution_count": 17,
   "metadata": {},
   "outputs": [
    {
     "data": {
      "text/plain": [
       "<165378x164182 sparse matrix of type '<class 'numpy.float64'>'\n",
       "\twith 1303658 stored elements in Compressed Sparse Row format>"
      ]
     },
     "execution_count": 17,
     "metadata": {},
     "output_type": "execute_result"
    }
   ],
   "source": [
    "X_test"
   ]
  },
  {
   "cell_type": "code",
   "execution_count": 12,
   "metadata": {},
   "outputs": [],
   "source": [
    "X_test = tfidf_vectorizer.transform(X_test['title'])"
   ]
  },
  {
   "cell_type": "code",
   "execution_count": 13,
   "metadata": {},
   "outputs": [],
   "source": [
    "y_pred = classifier.predict(X_test)"
   ]
  },
  {
   "cell_type": "code",
   "execution_count": 16,
   "metadata": {},
   "outputs": [
    {
     "data": {
      "text/plain": [
       "165378"
      ]
     },
     "execution_count": 16,
     "metadata": {},
     "output_type": "execute_result"
    }
   ],
   "source": [
    "len(y_pred)"
   ]
  },
  {
   "cell_type": "code",
   "execution_count": 10,
   "metadata": {},
   "outputs": [
    {
     "data": {
      "text/html": [
       "<div>\n",
       "<style scoped>\n",
       "    .dataframe tbody tr th:only-of-type {\n",
       "        vertical-align: middle;\n",
       "    }\n",
       "\n",
       "    .dataframe tbody tr th {\n",
       "        vertical-align: top;\n",
       "    }\n",
       "\n",
       "    .dataframe thead th {\n",
       "        text-align: right;\n",
       "    }\n",
       "</style>\n",
       "<table border=\"1\" class=\"dataframe\">\n",
       "  <thead>\n",
       "    <tr style=\"text-align: right;\">\n",
       "      <th></th>\n",
       "      <th>ID</th>\n",
       "      <th>url</th>\n",
       "      <th>title</th>\n",
       "      <th>label</th>\n",
       "    </tr>\n",
       "  </thead>\n",
       "  <tbody>\n",
       "    <tr>\n",
       "      <th>0</th>\n",
       "      <td>135309</td>\n",
       "      <td>www.kommersant.ru</td>\n",
       "      <td>Шестой кассационный суд в Самаре начнет работу...</td>\n",
       "      <td>0</td>\n",
       "    </tr>\n",
       "    <tr>\n",
       "      <th>1</th>\n",
       "      <td>135310</td>\n",
       "      <td>urexpert.online</td>\n",
       "      <td>Что такое индексация алиментов, кем и в каких ...</td>\n",
       "      <td>0</td>\n",
       "    </tr>\n",
       "    <tr>\n",
       "      <th>2</th>\n",
       "      <td>135311</td>\n",
       "      <td>imperimeha.ru</td>\n",
       "      <td>Женщинам | Империя Меха - Part 12</td>\n",
       "      <td>0</td>\n",
       "    </tr>\n",
       "    <tr>\n",
       "      <th>3</th>\n",
       "      <td>135312</td>\n",
       "      <td>national-porn.com</td>\n",
       "      <td>Небритые, волосатые киски: Порно всех стран и ...</td>\n",
       "      <td>1</td>\n",
       "    </tr>\n",
       "    <tr>\n",
       "      <th>4</th>\n",
       "      <td>135313</td>\n",
       "      <td>2gis.ru</td>\n",
       "      <td>67</td>\n",
       "      <td>0</td>\n",
       "    </tr>\n",
       "    <tr>\n",
       "      <th>...</th>\n",
       "      <td>...</td>\n",
       "      <td>...</td>\n",
       "      <td>...</td>\n",
       "      <td>...</td>\n",
       "    </tr>\n",
       "    <tr>\n",
       "      <th>165373</th>\n",
       "      <td>300682</td>\n",
       "      <td>etp.armtek.ru</td>\n",
       "      <td>Armtek - запчасти для грузовых и легковых авто...</td>\n",
       "      <td>0</td>\n",
       "    </tr>\n",
       "    <tr>\n",
       "      <th>165374</th>\n",
       "      <td>300683</td>\n",
       "      <td>mail.ru</td>\n",
       "      <td>Лилия Якупова - Караганда, Карагандинская обла...</td>\n",
       "      <td>0</td>\n",
       "    </tr>\n",
       "    <tr>\n",
       "      <th>165375</th>\n",
       "      <td>300684</td>\n",
       "      <td>xn----8sbnqchpeeeth.xn--p1ai</td>\n",
       "      <td>Администрация Лесного района Тверской области ...</td>\n",
       "      <td>0</td>\n",
       "    </tr>\n",
       "    <tr>\n",
       "      <th>165376</th>\n",
       "      <td>300685</td>\n",
       "      <td>www-sunhome-ru.cdn.ampproject.org</td>\n",
       "      <td>Сонник Изменение сознания. К чему снится Измен...</td>\n",
       "      <td>0</td>\n",
       "    </tr>\n",
       "    <tr>\n",
       "      <th>165377</th>\n",
       "      <td>300686</td>\n",
       "      <td>virtual-hockey.org</td>\n",
       "      <td>Строительство базы команды Гранд-Рапидс Гриффи...</td>\n",
       "      <td>0</td>\n",
       "    </tr>\n",
       "  </tbody>\n",
       "</table>\n",
       "<p>165378 rows × 4 columns</p>\n",
       "</div>"
      ],
      "text/plain": [
       "            ID                                url  \\\n",
       "0       135309                  www.kommersant.ru   \n",
       "1       135310                    urexpert.online   \n",
       "2       135311                      imperimeha.ru   \n",
       "3       135312                  national-porn.com   \n",
       "4       135313                            2gis.ru   \n",
       "...        ...                                ...   \n",
       "165373  300682                      etp.armtek.ru   \n",
       "165374  300683                            mail.ru   \n",
       "165375  300684       xn----8sbnqchpeeeth.xn--p1ai   \n",
       "165376  300685  www-sunhome-ru.cdn.ampproject.org   \n",
       "165377  300686                 virtual-hockey.org   \n",
       "\n",
       "                                                    title  label  \n",
       "0       Шестой кассационный суд в Самаре начнет работу...      0  \n",
       "1       Что такое индексация алиментов, кем и в каких ...      0  \n",
       "2                       Женщинам | Империя Меха - Part 12      0  \n",
       "3       Небритые, волосатые киски: Порно всех стран и ...      1  \n",
       "4                                                      67      0  \n",
       "...                                                   ...    ...  \n",
       "165373  Armtek - запчасти для грузовых и легковых авто...      0  \n",
       "165374  Лилия Якупова - Караганда, Карагандинская обла...      0  \n",
       "165375  Администрация Лесного района Тверской области ...      0  \n",
       "165376  Сонник Изменение сознания. К чему снится Измен...      0  \n",
       "165377  Строительство базы команды Гранд-Рапидс Гриффи...      0  \n",
       "\n",
       "[165378 rows x 4 columns]"
      ]
     },
     "execution_count": 10,
     "metadata": {},
     "output_type": "execute_result"
    }
   ],
   "source": [
    "X_test_competition[\"label\"] = y_predict\n",
    "X_test_competition"
   ]
  },
  {
   "cell_type": "code",
   "execution_count": 11,
   "metadata": {},
   "outputs": [
    {
     "name": "stdout",
     "output_type": "stream",
     "text": [
      "ID,label\r\n",
      "135309,0\r\n",
      "135310,0\r\n",
      "135311,0\r\n",
      "135312,1\r\n",
      "135313,0\r\n",
      "135314,0\r\n",
      "135315,0\r\n",
      "135316,0\r\n",
      "135317,0\r\n",
      "cat: write error: Broken pipe\r\n"
     ]
    }
   ],
   "source": [
    "X_test_competition[[\"ID\", \"label\"]].to_csv(\"tfidf.csv\", index=False)\n",
    "\n",
    "!cat tfidf.csv | head"
   ]
  }
 ],
 "metadata": {
  "kernelspec": {
   "display_name": "test-venv",
   "language": "python",
   "name": "test-venv"
  },
  "language_info": {
   "codemirror_mode": {
    "name": "ipython",
    "version": 3
   },
   "file_extension": ".py",
   "mimetype": "text/x-python",
   "name": "python",
   "nbconvert_exporter": "python",
   "pygments_lexer": "ipython3",
   "version": "3.7.3"
  }
 },
 "nbformat": 4,
 "nbformat_minor": 2
}
